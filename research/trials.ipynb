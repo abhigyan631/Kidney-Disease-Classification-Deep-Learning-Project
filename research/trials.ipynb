{
 "cells": [
  {
   "cell_type": "code",
   "execution_count": 1,
   "id": "14d4d994-90ae-4b07-8aa6-806fc63d74b3",
   "metadata": {},
   "outputs": [],
   "source": [
    "# config box\n",
    "d = {\"key\":\"val\", \"key1\":\"val1\"}"
   ]
  },
  {
   "cell_type": "code",
   "execution_count": 3,
   "id": "8a35755d-1359-4ba7-87ba-edcc792cd345",
   "metadata": {},
   "outputs": [
    {
     "ename": "AttributeError",
     "evalue": "'dict' object has no attribute 'key'",
     "output_type": "error",
     "traceback": [
      "\u001b[1;31m---------------------------------------------------------------------------\u001b[0m",
      "\u001b[1;31mAttributeError\u001b[0m                            Traceback (most recent call last)",
      "Cell \u001b[1;32mIn[3], line 1\u001b[0m\n\u001b[1;32m----> 1\u001b[0m \u001b[43md\u001b[49m\u001b[38;5;241;43m.\u001b[39;49m\u001b[43mkey\u001b[49m\n",
      "\u001b[1;31mAttributeError\u001b[0m: 'dict' object has no attribute 'key'"
     ]
    }
   ],
   "source": [
    "d.key"
   ]
  },
  {
   "cell_type": "code",
   "execution_count": 4,
   "id": "a8695ab8-e690-436c-add5-58543be42ab7",
   "metadata": {},
   "outputs": [],
   "source": [
    "from box import ConfigBox"
   ]
  },
  {
   "cell_type": "code",
   "execution_count": 5,
   "id": "3cbdd321-e3dc-4665-b260-f8867ad48131",
   "metadata": {},
   "outputs": [],
   "source": [
    "d2 = ConfigBox({\"key\":\"val\", \"key1\":\"val1\"})"
   ]
  },
  {
   "cell_type": "code",
   "execution_count": 6,
   "id": "aff764e5-5e40-4cfc-8b5c-84bba854dcf9",
   "metadata": {},
   "outputs": [
    {
     "data": {
      "text/plain": [
       "'val'"
      ]
     },
     "execution_count": 6,
     "metadata": {},
     "output_type": "execute_result"
    }
   ],
   "source": [
    "d2.key"
   ]
  },
  {
   "cell_type": "code",
   "execution_count": 8,
   "id": "884861ed-7417-4dcc-93ac-d0e764b5ae58",
   "metadata": {},
   "outputs": [
    {
     "data": {
      "text/plain": [
       "box.config_box.ConfigBox"
      ]
     },
     "execution_count": 8,
     "metadata": {},
     "output_type": "execute_result"
    }
   ],
   "source": [
    "type(d2)"
   ]
  },
  {
   "cell_type": "code",
   "execution_count": 9,
   "id": "3a490bcd-f2ee-4e1e-8823-5dbdb2bd9bb5",
   "metadata": {},
   "outputs": [],
   "source": [
    "# ensure annotations \n",
    "\n",
    "def get_product(x:int, y:int) -> int:\n",
    "    return x*y"
   ]
  },
  {
   "cell_type": "code",
   "execution_count": 11,
   "id": "aa411bb3-2f75-45ec-a4e5-a405eedaf622",
   "metadata": {},
   "outputs": [
    {
     "data": {
      "text/plain": [
       "12"
      ]
     },
     "execution_count": 11,
     "metadata": {},
     "output_type": "execute_result"
    }
   ],
   "source": [
    "get_product(x=4, y=3)"
   ]
  },
  {
   "cell_type": "code",
   "execution_count": 12,
   "id": "1c310b33-b9ac-4edf-9321-3a16e0f342b2",
   "metadata": {},
   "outputs": [
    {
     "data": {
      "text/plain": [
       "'33'"
      ]
     },
     "execution_count": 12,
     "metadata": {},
     "output_type": "execute_result"
    }
   ],
   "source": [
    "get_product(x=2, y=\"3\")"
   ]
  },
  {
   "cell_type": "code",
   "execution_count": 14,
   "id": "5a574f12-c035-4fab-8274-e5634bc489c7",
   "metadata": {},
   "outputs": [
    {
     "name": "stdout",
     "output_type": "stream",
     "text": [
      "Collecting ensure\n",
      "  Downloading ensure-1.0.4-py3-none-any.whl (15 kB)\n",
      "Requirement already satisfied: six>=1.11.0 in c:\\users\\1508\\appdata\\local\\anaconda30\\lib\\site-packages (from ensure) (1.16.0)\n",
      "Installing collected packages: ensure\n",
      "Successfully installed ensure-1.0.4\n"
     ]
    },
    {
     "name": "stderr",
     "output_type": "stream",
     "text": [
      "WARNING: Ignoring invalid distribution -cipy (c:\\users\\1508\\appdata\\local\\anaconda30\\lib\\site-packages)\n",
      "WARNING: Ignoring invalid distribution -cipy (c:\\users\\1508\\appdata\\local\\anaconda30\\lib\\site-packages)\n",
      "WARNING: Ignoring invalid distribution -cipy (c:\\users\\1508\\appdata\\local\\anaconda30\\lib\\site-packages)\n",
      "WARNING: Ignoring invalid distribution -cipy (c:\\users\\1508\\appdata\\local\\anaconda30\\lib\\site-packages)\n",
      "WARNING: Ignoring invalid distribution -cipy (c:\\users\\1508\\appdata\\local\\anaconda30\\lib\\site-packages)\n",
      "WARNING: Ignoring invalid distribution -cipy (c:\\users\\1508\\appdata\\local\\anaconda30\\lib\\site-packages)\n",
      "WARNING: Ignoring invalid distribution -cipy (c:\\users\\1508\\appdata\\local\\anaconda30\\lib\\site-packages)\n"
     ]
    }
   ],
   "source": [
    "!pip install ensure"
   ]
  },
  {
   "cell_type": "code",
   "execution_count": 15,
   "id": "f4cd50e5-18f7-44ca-9b40-03db4a3d64b9",
   "metadata": {},
   "outputs": [],
   "source": [
    "from ensure import ensure_annotations"
   ]
  },
  {
   "cell_type": "code",
   "execution_count": 16,
   "id": "32a29218-cacf-45fb-826c-07b2214b8260",
   "metadata": {},
   "outputs": [],
   "source": [
    "@ensure_annotations\n",
    "def get_product(x:int, y:int) -> int:\n",
    "    return x*y"
   ]
  },
  {
   "cell_type": "code",
   "execution_count": 17,
   "id": "aa1667f2-3af0-43bc-8881-98b89ddf6613",
   "metadata": {},
   "outputs": [
    {
     "data": {
      "text/plain": [
       "12"
      ]
     },
     "execution_count": 17,
     "metadata": {},
     "output_type": "execute_result"
    }
   ],
   "source": [
    "get_product(x=4, y=3)"
   ]
  },
  {
   "cell_type": "code",
   "execution_count": 18,
   "id": "2dd7c2c7-cc40-469f-b821-ef09d32c0cf3",
   "metadata": {},
   "outputs": [
    {
     "ename": "EnsureError",
     "evalue": "Argument y of type <class 'str'> to <function get_product at 0x000001CB533BEF80> does not match annotation type <class 'int'>",
     "output_type": "error",
     "traceback": [
      "\u001b[1;31m---------------------------------------------------------------------------\u001b[0m",
      "\u001b[1;31mEnsureError\u001b[0m                               Traceback (most recent call last)",
      "Cell \u001b[1;32mIn[18], line 1\u001b[0m\n\u001b[1;32m----> 1\u001b[0m \u001b[43mget_product\u001b[49m\u001b[43m(\u001b[49m\u001b[43mx\u001b[49m\u001b[38;5;241;43m=\u001b[39;49m\u001b[38;5;241;43m4\u001b[39;49m\u001b[43m,\u001b[49m\u001b[43m \u001b[49m\u001b[43my\u001b[49m\u001b[38;5;241;43m=\u001b[39;49m\u001b[38;5;124;43m\"\u001b[39;49m\u001b[38;5;124;43m3\u001b[39;49m\u001b[38;5;124;43m\"\u001b[39;49m\u001b[43m)\u001b[49m\n",
      "File \u001b[1;32m~\\AppData\\Local\\anaconda30\\lib\\site-packages\\ensure\\main.py:870\u001b[0m, in \u001b[0;36mWrappedFunctionReturn.__call__\u001b[1;34m(self, *args, **kwargs)\u001b[0m\n\u001b[0;32m    868\u001b[0m     \u001b[38;5;28;01mif\u001b[39;00m \u001b[38;5;129;01mnot\u001b[39;00m \u001b[38;5;28misinstance\u001b[39m(value, templ):\n\u001b[0;32m    869\u001b[0m         msg \u001b[38;5;241m=\u001b[39m \u001b[38;5;124m\"\u001b[39m\u001b[38;5;124mArgument \u001b[39m\u001b[38;5;132;01m{arg}\u001b[39;00m\u001b[38;5;124m of type \u001b[39m\u001b[38;5;132;01m{valt}\u001b[39;00m\u001b[38;5;124m to \u001b[39m\u001b[38;5;132;01m{f}\u001b[39;00m\u001b[38;5;124m \u001b[39m\u001b[38;5;124m\"\u001b[39m \u001b[38;5;124m\"\u001b[39m\u001b[38;5;124mdoes not match annotation type \u001b[39m\u001b[38;5;132;01m{t}\u001b[39;00m\u001b[38;5;124m\"\u001b[39m\n\u001b[1;32m--> 870\u001b[0m         \u001b[38;5;28;01mraise\u001b[39;00m EnsureError(msg\u001b[38;5;241m.\u001b[39mformat(arg\u001b[38;5;241m=\u001b[39marg, f\u001b[38;5;241m=\u001b[39m\u001b[38;5;28mself\u001b[39m\u001b[38;5;241m.\u001b[39mf, t\u001b[38;5;241m=\u001b[39mtempl, valt\u001b[38;5;241m=\u001b[39m\u001b[38;5;28mtype\u001b[39m(value)))\n\u001b[0;32m    872\u001b[0m return_val \u001b[38;5;241m=\u001b[39m \u001b[38;5;28mself\u001b[39m\u001b[38;5;241m.\u001b[39mf(\u001b[38;5;241m*\u001b[39margs, \u001b[38;5;241m*\u001b[39m\u001b[38;5;241m*\u001b[39mkwargs)\n\u001b[0;32m    873\u001b[0m \u001b[38;5;28;01mif\u001b[39;00m \u001b[38;5;129;01mnot\u001b[39;00m \u001b[38;5;28misinstance\u001b[39m(return_val, \u001b[38;5;28mself\u001b[39m\u001b[38;5;241m.\u001b[39mreturn_templ):\n",
      "\u001b[1;31mEnsureError\u001b[0m: Argument y of type <class 'str'> to <function get_product at 0x000001CB533BEF80> does not match annotation type <class 'int'>"
     ]
    }
   ],
   "source": [
    "get_product(x=4, y=\"3\")"
   ]
  },
  {
   "cell_type": "markdown",
   "id": "8384da76-3d10-4e77-b259-4816efedb432",
   "metadata": {},
   "source": [
    "Download data from gdrive"
   ]
  },
  {
   "cell_type": "code",
   "execution_count": 3,
   "id": "d0cb9d09-b8a7-4dbb-ab0d-95a6654db27e",
   "metadata": {},
   "outputs": [
    {
     "name": "stdout",
     "output_type": "stream",
     "text": [
      "Collecting gdown\n",
      "  Using cached gdown-5.1.0-py3-none-any.whl (17 kB)\n",
      "Requirement already satisfied: beautifulsoup4 in c:\\users\\1508\\appdata\\local\\anaconda30\\lib\\site-packages (from gdown) (4.11.1)\n",
      "Requirement already satisfied: filelock in c:\\users\\1508\\appdata\\local\\anaconda30\\lib\\site-packages (from gdown) (3.13.1)\n",
      "Requirement already satisfied: requests[socks] in c:\\users\\1508\\appdata\\local\\anaconda30\\lib\\site-packages (from gdown) (2.31.0)\n",
      "Requirement already satisfied: tqdm in c:\\users\\1508\\appdata\\local\\anaconda30\\lib\\site-packages (from gdown) (4.64.1)\n",
      "Requirement already satisfied: soupsieve>1.2 in c:\\users\\1508\\appdata\\local\\anaconda30\\lib\\site-packages (from beautifulsoup4->gdown) (2.3.2.post1)\n",
      "Requirement already satisfied: charset-normalizer<4,>=2 in c:\\users\\1508\\appdata\\local\\anaconda30\\lib\\site-packages (from requests[socks]->gdown) (2.0.4)\n",
      "Requirement already satisfied: certifi>=2017.4.17 in c:\\users\\1508\\appdata\\local\\anaconda30\\lib\\site-packages (from requests[socks]->gdown) (2023.11.17)\n",
      "Requirement already satisfied: idna<4,>=2.5 in c:\\users\\1508\\appdata\\local\\anaconda30\\lib\\site-packages (from requests[socks]->gdown) (3.4)\n",
      "Requirement already satisfied: urllib3<3,>=1.21.1 in c:\\users\\1508\\appdata\\local\\anaconda30\\lib\\site-packages (from requests[socks]->gdown) (1.26.14)\n",
      "Requirement already satisfied: PySocks!=1.5.7,>=1.5.6 in c:\\users\\1508\\appdata\\local\\anaconda30\\lib\\site-packages (from requests[socks]->gdown) (1.7.1)\n",
      "Requirement already satisfied: colorama in c:\\users\\1508\\appdata\\local\\anaconda30\\lib\\site-packages (from tqdm->gdown) (0.4.6)\n",
      "Installing collected packages: gdown\n",
      "Successfully installed gdown-5.1.0\n"
     ]
    },
    {
     "name": "stderr",
     "output_type": "stream",
     "text": [
      "WARNING: Ignoring invalid distribution -cipy (c:\\users\\1508\\appdata\\local\\anaconda30\\lib\\site-packages)\n",
      "WARNING: Ignoring invalid distribution -cipy (c:\\users\\1508\\appdata\\local\\anaconda30\\lib\\site-packages)\n",
      "WARNING: Ignoring invalid distribution -cipy (c:\\users\\1508\\appdata\\local\\anaconda30\\lib\\site-packages)\n",
      "WARNING: Ignoring invalid distribution -cipy (c:\\users\\1508\\appdata\\local\\anaconda30\\lib\\site-packages)\n",
      "WARNING: Ignoring invalid distribution -cipy (c:\\users\\1508\\appdata\\local\\anaconda30\\lib\\site-packages)\n",
      "WARNING: Ignoring invalid distribution -cipy (c:\\users\\1508\\appdata\\local\\anaconda30\\lib\\site-packages)\n",
      "WARNING: Ignoring invalid distribution -cipy (c:\\users\\1508\\appdata\\local\\anaconda30\\lib\\site-packages)\n"
     ]
    }
   ],
   "source": [
    "!pip install gdown"
   ]
  },
  {
   "cell_type": "code",
   "execution_count": 6,
   "id": "8d6fda79-6007-4ced-b2c3-7ce1b1295f3f",
   "metadata": {},
   "outputs": [],
   "source": [
    "import gdown"
   ]
  },
  {
   "cell_type": "code",
   "execution_count": 7,
   "id": "08c829dd-906d-42e2-9b3c-74352d0cbc1b",
   "metadata": {},
   "outputs": [],
   "source": [
    "url=\"https://drive.google.com/file/d/1vlhZ5c7abUKF8xXERIw6m9Te8fW7ohw3/view?usp=sharing\""
   ]
  },
  {
   "cell_type": "code",
   "execution_count": 8,
   "id": "95a99a44-72b5-4a50-96ae-fd0bbba2a9de",
   "metadata": {},
   "outputs": [
    {
     "data": {
      "text/plain": [
       "'1vlhZ5c7abUKF8xXERIw6m9Te8fW7ohw3'"
      ]
     },
     "execution_count": 8,
     "metadata": {},
     "output_type": "execute_result"
    }
   ],
   "source": [
    "file_id = url.split(\"/\")[-2]\n",
    "file_id"
   ]
  },
  {
   "cell_type": "code",
   "execution_count": 9,
   "id": "06fd74fa-5bf5-436d-a880-1cad2b410f2c",
   "metadata": {},
   "outputs": [
    {
     "name": "stderr",
     "output_type": "stream",
     "text": [
      "Downloading...\n",
      "From (original): https://drive.google.com/uc?/export=download&id=1vlhZ5c7abUKF8xXERIw6m9Te8fW7ohw3\n",
      "From (redirected): https://drive.usercontent.google.com/download?id=1vlhZ5c7abUKF8xXERIw6m9Te8fW7ohw3&confirm=t&uuid=990d1164-3dbc-4376-bd74-967a4dd90256\n",
      "To: D:\\Work docs\\My-learning-and-projects\\End-to-End-MLOPs project\\Kidney-Disease-Classification-Deep-Learning-Project\\research\\kidney-CT-Scan-data.zip\n",
      "100%|██████████████████████████████████████████████████████████████████████████████████████████| 57.7M/57.7M [00:07<00:00, 7.92MB/s]\n"
     ]
    },
    {
     "data": {
      "text/plain": [
       "'kidney-CT-Scan-data.zip'"
      ]
     },
     "execution_count": 9,
     "metadata": {},
     "output_type": "execute_result"
    }
   ],
   "source": [
    "prefix = 'https://drive.google.com/uc?/export=download&id='\n",
    "gdown.download(prefix+file_id, \"kidney-CT-Scan-data.zip\")"
   ]
  },
  {
   "cell_type": "code",
   "execution_count": null,
   "id": "a852cae7-a71d-4f64-82c4-fb35ebc93dbd",
   "metadata": {},
   "outputs": [],
   "source": []
  }
 ],
 "metadata": {
  "kernelspec": {
   "display_name": "Python 3 (ipykernel)",
   "language": "python",
   "name": "python3"
  },
  "language_info": {
   "codemirror_mode": {
    "name": "ipython",
    "version": 3
   },
   "file_extension": ".py",
   "mimetype": "text/x-python",
   "name": "python",
   "nbconvert_exporter": "python",
   "pygments_lexer": "ipython3",
   "version": "3.10.9"
  }
 },
 "nbformat": 4,
 "nbformat_minor": 5
}
